{
 "cells": [
  {
   "cell_type": "code",
   "execution_count": 1,
   "id": "5697650a",
   "metadata": {},
   "outputs": [
    {
     "name": "stdout",
     "output_type": "stream",
     "text": [
      "SymPy Version: 1.8\n"
     ]
    }
   ],
   "source": [
    "import sympy as sp\n",
    "\n",
    "print(f\"SymPy Version: {sp.__version__}\")\n",
    "\n",
    "# 数式をキレイに表示する\n",
    "sp.init_printing()"
   ]
  },
  {
   "cell_type": "markdown",
   "id": "ae20c049",
   "metadata": {},
   "source": [
    "### シンボルの生成\n",
    "\n",
    "- 複数のシンボルを同時に作成する場合は、`sympy.symbols()`を使用する。\n",
    "  + str型の引数として、シンボルをスペース区切りで指定する。\n",
    "- 単一のシンボルを生成する場合は、`sympy.Symbol`クラスを使用出来る。"
   ]
  },
  {
   "cell_type": "code",
   "execution_count": 2,
   "id": "c59cb9f7",
   "metadata": {},
   "outputs": [
    {
     "data": {
      "image/png": "[encoded data removed]",
      "text/latex": [
       "$\\displaystyle \\left( x, \\  y, \\  z\\right)$"
      ],
      "text/plain": [
       "(x, y, z)"
      ]
     },
     "execution_count": 2,
     "metadata": {},
     "output_type": "execute_result"
    }
   ],
   "source": [
    "x, y, z = sp.symbols('x y z')\n",
    "x, y, z"
   ]
  },
  {
   "cell_type": "code",
   "execution_count": 3,
   "id": "a5dea25b",
   "metadata": {},
   "outputs": [
    {
     "data": {
      "image/png": "[encoded data removed]",
      "text/latex": [
       "$\\displaystyle a$"
      ],
      "text/plain": [
       "a"
      ]
     },
     "execution_count": 3,
     "metadata": {},
     "output_type": "execute_result"
    }
   ],
   "source": [
    "a = sp.Symbol('a')\n",
    "a"
   ]
  },
  {
   "cell_type": "markdown",
   "id": "bf51dd49",
   "metadata": {},
   "source": [
    "### 数式を組み立てる\n",
    "\n",
    "- 生成したシンボルのインスタンスを使用して、Pythonの演算子を使って式を定義するだけでよい\n",
    "- 生成された式は、整形されたものになっているので、展開した数式が欲しい場合は`sympy.expand()`を使用する\n",
    "- 逆に展開されたものを因数分解する場合は、`sympy.factor()`を使用する。\n",
    "  + 式を整形する`sympy.simplify()`と合わせて使用されることが多い。"
   ]
  },
  {
   "cell_type": "code",
   "execution_count": 4,
   "id": "626990c9",
   "metadata": {},
   "outputs": [
    {
     "name": "stdout",
     "output_type": "stream",
     "text": [
      "式の型: <class 'sympy.core.power.Pow'>\n"
     ]
    },
    {
     "data": {
      "image/png": "[encoded data removed]",
      "text/latex": [
       "$\\displaystyle \\left(a x + y\\right)^{2}$"
      ],
      "text/plain": [
       "         2\n",
       "(a⋅x + y) "
      ]
     },
     "execution_count": 4,
     "metadata": {},
     "output_type": "execute_result"
    }
   ],
   "source": [
    "f = (a * x + y) ** 2\n",
    "print(f\"式の型: {type(f)}\")\n",
    "f"
   ]
  },
  {
   "cell_type": "code",
   "execution_count": 5,
   "id": "7f94f90c",
   "metadata": {},
   "outputs": [
    {
     "name": "stdout",
     "output_type": "stream",
     "text": [
      "式の型: <class 'sympy.core.add.Add'>\n"
     ]
    },
    {
     "data": {
      "image/png": "[encoded data removed]",
      "text/latex": [
       "$\\displaystyle a^{2} x^{2} + 2 a x y + y^{2}$"
      ],
      "text/plain": [
       " 2  2              2\n",
       "a ⋅x  + 2⋅a⋅x⋅y + y "
      ]
     },
     "execution_count": 5,
     "metadata": {},
     "output_type": "execute_result"
    }
   ],
   "source": [
    "g = sp.expand(f)\n",
    "print(f\"式の型: {type(g)}\")\n",
    "g"
   ]
  },
  {
   "cell_type": "code",
   "execution_count": 6,
   "id": "c90ac6ae",
   "metadata": {},
   "outputs": [
    {
     "data": {
      "image/png": "[encoded data removed]",
      "text/latex": [
       "$\\displaystyle \\left(a x + y\\right)^{2}$"
      ],
      "text/plain": [
       "         2\n",
       "(a⋅x + y) "
      ]
     },
     "execution_count": 6,
     "metadata": {},
     "output_type": "execute_result"
    }
   ],
   "source": [
    "sp.factor(g)"
   ]
  },
  {
   "cell_type": "markdown",
   "id": "40d77a10",
   "metadata": {},
   "source": [
    "### 数式を整形する\n",
    "\n",
    "- あるシンボルについて整理する場合は、`sympy.collect()`を使用する"
   ]
  },
  {
   "cell_type": "code",
   "execution_count": 7,
   "id": "9da5f95e",
   "metadata": {},
   "outputs": [
    {
     "data": {
      "image/png": "[encoded data removed]",
      "text/latex": [
       "$\\displaystyle \\left(x + y + z\\right)^{3}$"
      ],
      "text/plain": [
       "           3\n",
       "(x + y + z) "
      ]
     },
     "execution_count": 7,
     "metadata": {},
     "output_type": "execute_result"
    }
   ],
   "source": [
    "exp = (x + y + z) ** 3\n",
    "exp"
   ]
  },
  {
   "cell_type": "code",
   "execution_count": 8,
   "id": "1aae3c0f",
   "metadata": {},
   "outputs": [
    {
     "data": {
      "image/png": "[encoded data removed]",
      "text/latex": [
       "$\\displaystyle x^{3} + 3 x^{2} y + 3 x^{2} z + 3 x y^{2} + 6 x y z + 3 x z^{2} + y^{3} + 3 y^{2} z + 3 y z^{2} + z^{3}$"
      ],
      "text/plain": [
       " 3      2        2          2                  2    3      2          2    3\n",
       "x  + 3⋅x ⋅y + 3⋅x ⋅z + 3⋅x⋅y  + 6⋅x⋅y⋅z + 3⋅x⋅z  + y  + 3⋅y ⋅z + 3⋅y⋅z  + z "
      ]
     },
     "execution_count": 8,
     "metadata": {},
     "output_type": "execute_result"
    }
   ],
   "source": [
    "exp = sp.expand(exp)\n",
    "exp"
   ]
  },
  {
   "cell_type": "code",
   "execution_count": 9,
   "id": "b29abf00",
   "metadata": {},
   "outputs": [
    {
     "data": {
      "image/png": "[encoded data removed]",
      "text/latex": [
       "$\\displaystyle x^{3} + x^{2} \\left(3 y + 3 z\\right) + x \\left(3 y^{2} + 6 y z + 3 z^{2}\\right) + y^{3} + 3 y^{2} z + 3 y z^{2} + z^{3}$"
      ],
      "text/plain": [
       " 3    2                 ⎛   2              2⎞    3      2          2    3\n",
       "x  + x ⋅(3⋅y + 3⋅z) + x⋅⎝3⋅y  + 6⋅y⋅z + 3⋅z ⎠ + y  + 3⋅y ⋅z + 3⋅y⋅z  + z "
      ]
     },
     "execution_count": 9,
     "metadata": {},
     "output_type": "execute_result"
    }
   ],
   "source": [
    "# x について式を整理する\n",
    "sp.collect(exp, x)"
   ]
  },
  {
   "cell_type": "markdown",
   "id": "2f57c7fc",
   "metadata": {},
   "source": [
    "### 数式に値を代入する\n",
    "\n",
    "- 生成した数式のインスタンスに対して、`数式.subs()`を呼び出す。\n",
    "  + 引数は辞書型のインスタンスになる"
   ]
  },
  {
   "cell_type": "code",
   "execution_count": 10,
   "id": "ecbfcc3e",
   "metadata": {},
   "outputs": [
    {
     "data": {
      "image/png": "[encoded data removed]",
      "text/latex": [
       "$\\displaystyle x^{3} + 3 x^{2} y + 3 x^{2} z + 3 x y^{2} + 6 x y z + 3 x z^{2} + y^{3} + 3 y^{2} z + 3 y z^{2} + z^{3}$"
      ],
      "text/plain": [
       " 3      2        2          2                  2    3      2          2    3\n",
       "x  + 3⋅x ⋅y + 3⋅x ⋅z + 3⋅x⋅y  + 6⋅x⋅y⋅z + 3⋅x⋅z  + y  + 3⋅y ⋅z + 3⋅y⋅z  + z "
      ]
     },
     "execution_count": 10,
     "metadata": {},
     "output_type": "execute_result"
    }
   ],
   "source": [
    "exp = (x + y + z) ** 3\n",
    "exp = sp.expand(exp)\n",
    "exp"
   ]
  },
  {
   "cell_type": "code",
   "execution_count": 11,
   "id": "bd821f4c",
   "metadata": {},
   "outputs": [
    {
     "data": {
      "image/png": "[encoded data removed]",
      "text/latex": [
       "$\\displaystyle y^{3} + 3 y^{2} z + 6 y^{2} + 3 y z^{2} + 12 y z + 12 y + z^{3} + 6 z^{2} + 12 z + 8$"
      ],
      "text/plain": [
       " 3      2        2        2                    3      2           \n",
       "y  + 3⋅y ⋅z + 6⋅y  + 3⋅y⋅z  + 12⋅y⋅z + 12⋅y + z  + 6⋅z  + 12⋅z + 8"
      ]
     },
     "execution_count": 11,
     "metadata": {},
     "output_type": "execute_result"
    }
   ],
   "source": [
    "exp.subs({x: 2})"
   ]
  },
  {
   "cell_type": "code",
   "execution_count": 12,
   "id": "96c08513",
   "metadata": {},
   "outputs": [
    {
     "data": {
      "image/png": "[encoded data removed]",
      "text/latex": [
       "$\\displaystyle z^{3} + 9 z^{2} + 27 z + 27$"
      ],
      "text/plain": [
       " 3      2            \n",
       "z  + 9⋅z  + 27⋅z + 27"
      ]
     },
     "execution_count": 12,
     "metadata": {},
     "output_type": "execute_result"
    }
   ],
   "source": [
    "exp.subs({x: 2, y: 1})"
   ]
  },
  {
   "cell_type": "code",
   "execution_count": 13,
   "id": "f975db12",
   "metadata": {},
   "outputs": [
    {
     "data": {
      "image/png": "[encoded data removed]",
      "text/latex": [
       "$\\displaystyle 42.875$"
      ],
      "text/plain": [
       "42.8750000000000"
      ]
     },
     "execution_count": 13,
     "metadata": {},
     "output_type": "execute_result"
    }
   ],
   "source": [
    "exp.subs({x: 2, y: 1, z: 0.5})"
   ]
  },
  {
   "cell_type": "markdown",
   "id": "bbf8eee5",
   "metadata": {},
   "source": [
    "### 数式から係数を抽出する\n",
    "\n",
    "- 生成した数式のインスタンスに対して、`数式.coeff()`を呼び出す"
   ]
  },
  {
   "cell_type": "code",
   "execution_count": 14,
   "id": "4270521e",
   "metadata": {},
   "outputs": [
    {
     "data": {
      "image/png": "[encoded data removed]",
      "text/latex": [
       "$\\displaystyle x^{3} + 3 x^{2} y + 3 x^{2} z + 3 x y^{2} + 6 x y z + 3 x z^{2} + y^{3} + 3 y^{2} z + 3 y z^{2} + z^{3}$"
      ],
      "text/plain": [
       " 3      2        2          2                  2    3      2          2    3\n",
       "x  + 3⋅x ⋅y + 3⋅x ⋅z + 3⋅x⋅y  + 6⋅x⋅y⋅z + 3⋅x⋅z  + y  + 3⋅y ⋅z + 3⋅y⋅z  + z "
      ]
     },
     "execution_count": 14,
     "metadata": {},
     "output_type": "execute_result"
    }
   ],
   "source": [
    "exp = (x + y + z) ** 3\n",
    "exp = sp.expand(exp)\n",
    "exp = sp.simplify(exp)\n",
    "exp"
   ]
  },
  {
   "cell_type": "code",
   "execution_count": 15,
   "id": "51ce15f5",
   "metadata": {},
   "outputs": [
    {
     "data": {
      "image/png": "[encoded data removed]",
      "text/latex": [
       "$\\displaystyle 3 y^{2} + 6 y z + 3 z^{2}$"
      ],
      "text/plain": [
       "   2              2\n",
       "3⋅y  + 6⋅y⋅z + 3⋅z "
      ]
     },
     "execution_count": 15,
     "metadata": {},
     "output_type": "execute_result"
    }
   ],
   "source": [
    "sp.collect(exp, x).coeff(x, 1)"
   ]
  },
  {
   "cell_type": "markdown",
   "id": "505c8dae",
   "metadata": {},
   "source": [
    "### 分数を取り扱う\n",
    "\n",
    "- 分数を代数的に扱う場合は、`sympy.Rational()`を使用する。\n",
    "  + 引数は分子, 分母の順で指定する。"
   ]
  },
  {
   "cell_type": "code",
   "execution_count": 16,
   "id": "97a5a1eb",
   "metadata": {},
   "outputs": [
    {
     "data": {
      "image/png": "[encoded data removed]",
      "text/latex": [
       "$\\displaystyle \\frac{5}{6}$"
      ],
      "text/plain": [
       "5/6"
      ]
     },
     "execution_count": 16,
     "metadata": {},
     "output_type": "execute_result"
    }
   ],
   "source": [
    "sp.Rational(1, 3) + sp.Rational(1, 2)"
   ]
  },
  {
   "cell_type": "markdown",
   "id": "84eb6862",
   "metadata": {},
   "source": [
    "### 数列を取り扱う\n",
    "\n",
    "- 数列を定義する場合は、`sympy.sequence()`を使用する\n",
    "  + 引数に、数列の式を与えるだけなので、等差数列や等比数列も扱うことができる。\n",
    "- 作成した数列のインスタンスに対して、`数列.formula`を呼び出すと、定義された式を取り出せる\n",
    "- 数列の和を計算する場合は、`sympy.summation()`を使用する。\n",
    "- また、積和を計算する場合は、`sympy.product()`を使用する。"
   ]
  },
  {
   "cell_type": "code",
   "execution_count": 17,
   "id": "09869545",
   "metadata": {},
   "outputs": [
    {
     "data": {
      "image/png": "[encoded data removed]",
      "text/latex": [
       "$\\displaystyle \\left[1, 4, 7, 10, \\ldots\\right]$"
      ],
      "text/plain": [
       "[1, 4, 7, 10, …]"
      ]
     },
     "execution_count": 17,
     "metadata": {},
     "output_type": "execute_result"
    }
   ],
   "source": [
    "n = sp.Symbol('n')\n",
    "an = sp.sequence(3 * n + 1)\n",
    "an"
   ]
  },
  {
   "cell_type": "code",
   "execution_count": 18,
   "id": "bbcd2d5e",
   "metadata": {},
   "outputs": [
    {
     "data": {
      "image/png": "[encoded data removed]",
      "text/latex": [
       "$\\displaystyle 3 n + 1$"
      ],
      "text/plain": [
       "3⋅n + 1"
      ]
     },
     "execution_count": 18,
     "metadata": {},
     "output_type": "execute_result"
    }
   ],
   "source": [
    "an.formula"
   ]
  },
  {
   "cell_type": "code",
   "execution_count": 19,
   "id": "662e60c8",
   "metadata": {},
   "outputs": [
    {
     "data": {
      "image/png": "[encoded data removed]",
      "text/latex": [
       "$\\displaystyle 51$"
      ],
      "text/plain": [
       "51"
      ]
     },
     "execution_count": 19,
     "metadata": {},
     "output_type": "execute_result"
    }
   ],
   "source": [
    "sp.summation(an.formula, (n, 0, 5))"
   ]
  },
  {
   "cell_type": "code",
   "execution_count": 20,
   "id": "c675c9ce",
   "metadata": {},
   "outputs": [
    {
     "data": {
      "image/png": "[encoded data removed]",
      "text/latex": [
       "$\\displaystyle 58240$"
      ],
      "text/plain": [
       "58240"
      ]
     },
     "execution_count": 20,
     "metadata": {},
     "output_type": "execute_result"
    }
   ],
   "source": [
    "sp.product(an.formula, (n, 0, 5))"
   ]
  },
  {
   "cell_type": "markdown",
   "id": "a60a003b",
   "metadata": {},
   "source": [
    "### 連立方程式を取り扱う\n",
    "\n",
    "- 方程式の定義には、`sympy.Eq`を使用する。\n",
    "  + 引数には、左辺, 右辺の順で2つの式を与える\n",
    "- 方程式を解く場合は、`sympy.solve()`を使う"
   ]
  },
  {
   "cell_type": "code",
   "execution_count": 21,
   "id": "dc5bfdc8",
   "metadata": {},
   "outputs": [
    {
     "data": {
      "image/png": "[encoded data removed]",
      "text/latex": [
       "$\\displaystyle \\left[ x + y + z = 4, \\  2 x + y + z = 6, \\  x - y + 2 z = 3\\right]$"
      ],
      "text/plain": [
       "[x + y + z = 4, 2⋅x + y + z = 6, x - y + 2⋅z = 3]"
      ]
     },
     "execution_count": 21,
     "metadata": {},
     "output_type": "execute_result"
    }
   ],
   "source": [
    "eq1 = sp.Eq(    x + y +     z, 4)\n",
    "eq2 = sp.Eq(2 * x + y +     z, 6)\n",
    "eq3 = sp.Eq(    x - y + 2 * z, 3)\n",
    "\n",
    "equations = [eq1, eq2, eq3]\n",
    "equations"
   ]
  },
  {
   "cell_type": "code",
   "execution_count": 22,
   "id": "75249362",
   "metadata": {},
   "outputs": [
    {
     "data": {
      "image/png": "[encoded data removed]",
      "text/latex": [
       "$\\displaystyle \\left\\{ x : 2, \\  y : 1, \\  z : 1\\right\\}$"
      ],
      "text/plain": [
       "{x: 2, y: 1, z: 1}"
      ]
     },
     "execution_count": 22,
     "metadata": {},
     "output_type": "execute_result"
    }
   ],
   "source": [
    "sp.solve(equations)"
   ]
  },
  {
   "cell_type": "code",
   "execution_count": null,
   "id": "e27fe67a",
   "metadata": {},
   "outputs": [],
   "source": []
  }
 ],
 "metadata": {
  "kernelspec": {
   "display_name": "Python 3",
   "language": "python",
   "name": "python3"
  },
  "language_info": {
   "codemirror_mode": {
    "name": "ipython",
    "version": 3
   },
   "file_extension": ".py",
   "mimetype": "text/x-python",
   "name": "python",
   "nbconvert_exporter": "python",
   "pygments_lexer": "ipython3",
   "version": "3.8.8"
  }
 },
 "nbformat": 4,
 "nbformat_minor": 5
}
