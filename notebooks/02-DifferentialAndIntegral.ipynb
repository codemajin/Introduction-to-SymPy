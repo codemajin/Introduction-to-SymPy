{
 "cells": [
  {
   "cell_type": "code",
   "execution_count": 1,
   "id": "c780ccfc",
   "metadata": {},
   "outputs": [
    {
     "name": "stdout",
     "output_type": "stream",
     "text": [
      "Sympy Version: 1.8\n"
     ]
    }
   ],
   "source": [
    "import sympy as sp\n",
    "\n",
    "print(f\"Sympy Version: {sp.__version__}\")\n",
    "\n",
    "# 数式をキレイに表示する\n",
    "sp.init_printing()"
   ]
  },
  {
   "cell_type": "markdown",
   "id": "2c29a97b",
   "metadata": {},
   "source": [
    "### 極限を計算する\n",
    "\n",
    "- 極限は `sympy.limit()`を使用することで計算できる。\n",
    "- 無限は、`sympy.oo`で扱うことが出来る"
   ]
  },
  {
   "cell_type": "code",
   "execution_count": 2,
   "id": "a11ae5dc",
   "metadata": {},
   "outputs": [
    {
     "data": {
      "image/png": "[encoded data removed]",
      "text/latex": [
       "$\\displaystyle \\left( x, \\  y, \\  z\\right)$"
      ],
      "text/plain": [
       "(x, y, z)"
      ]
     },
     "execution_count": 2,
     "metadata": {},
     "output_type": "execute_result"
    }
   ],
   "source": [
    "x, y, z = sp.symbols('x y z')\n",
    "x, y, z"
   ]
  },
  {
   "cell_type": "code",
   "execution_count": 3,
   "id": "54f50615",
   "metadata": {},
   "outputs": [
    {
     "data": {
      "image/png": "[encoded data removed]",
      "text/latex": [
       "$\\displaystyle \\frac{\\sin{\\left(x \\right)}}{x}$"
      ],
      "text/plain": [
       "sin(x)\n",
       "──────\n",
       "  x   "
      ]
     },
     "execution_count": 3,
     "metadata": {},
     "output_type": "execute_result"
    }
   ],
   "source": [
    "exp = sp.sin(x) / x\n",
    "exp"
   ]
  },
  {
   "cell_type": "code",
   "execution_count": 4,
   "id": "0c9f7b98",
   "metadata": {},
   "outputs": [
    {
     "data": {
      "image/png": "[encoded data removed]",
      "text/latex": [
       "$\\displaystyle 1$"
      ],
      "text/plain": [
       "1"
      ]
     },
     "execution_count": 4,
     "metadata": {},
     "output_type": "execute_result"
    }
   ],
   "source": [
    "sp.limit(exp, x, 0)"
   ]
  },
  {
   "cell_type": "code",
   "execution_count": 5,
   "id": "46d8cf59",
   "metadata": {},
   "outputs": [
    {
     "data": {
      "image/png": "[encoded data removed]",
      "text/latex": [
       "$\\displaystyle 0$"
      ],
      "text/plain": [
       "0"
      ]
     },
     "execution_count": 5,
     "metadata": {},
     "output_type": "execute_result"
    }
   ],
   "source": [
    "sp.limit(exp, x, sp.oo)"
   ]
  },
  {
   "cell_type": "markdown",
   "id": "b0c6c013",
   "metadata": {},
   "source": [
    "### 微分を計算する\n",
    "\n",
    "- 微分は, `sympy.diff()`で計算できる。\n",
    "- また、`sympy.Derivative`で微分を定義することもできる。\n",
    "  + 微分を実行する際は、`sympy.Derivative.doit()`を使う"
   ]
  },
  {
   "cell_type": "code",
   "execution_count": 6,
   "id": "c4842f5a",
   "metadata": {},
   "outputs": [
    {
     "data": {
      "image/png": "[encoded data removed]",
      "text/latex": [
       "$\\displaystyle x^{2} \\sin{\\left(x \\right)}$"
      ],
      "text/plain": [
       " 2       \n",
       "x ⋅sin(x)"
      ]
     },
     "execution_count": 6,
     "metadata": {},
     "output_type": "execute_result"
    }
   ],
   "source": [
    "exp = x ** 2 * sp.sin(x)\n",
    "exp"
   ]
  },
  {
   "cell_type": "code",
   "execution_count": 7,
   "id": "b3eb3318",
   "metadata": {},
   "outputs": [
    {
     "data": {
      "image/png": "[encoded data removed]",
      "text/latex": [
       "$\\displaystyle x^{2} \\cos{\\left(x \\right)} + 2 x \\sin{\\left(x \\right)}$"
      ],
      "text/plain": [
       " 2                    \n",
       "x ⋅cos(x) + 2⋅x⋅sin(x)"
      ]
     },
     "execution_count": 7,
     "metadata": {},
     "output_type": "execute_result"
    }
   ],
   "source": [
    "sp.diff(exp, x)"
   ]
  },
  {
   "cell_type": "code",
   "execution_count": 8,
   "id": "69854c63",
   "metadata": {},
   "outputs": [
    {
     "data": {
      "image/png": "[encoded data removed]",
      "text/latex": [
       "$\\displaystyle - x^{2} \\sin{\\left(x \\right)} + 4 x \\cos{\\left(x \\right)} + 2 \\sin{\\left(x \\right)}$"
      ],
      "text/plain": [
       "   2                               \n",
       "- x ⋅sin(x) + 4⋅x⋅cos(x) + 2⋅sin(x)"
      ]
     },
     "execution_count": 8,
     "metadata": {},
     "output_type": "execute_result"
    }
   ],
   "source": [
    "# 2階微分\n",
    "sp.diff(exp, x, 2)"
   ]
  },
  {
   "cell_type": "code",
   "execution_count": 9,
   "id": "6a4ac8ba",
   "metadata": {},
   "outputs": [
    {
     "data": {
      "image/png": "[encoded data removed]",
      "text/latex": [
       "$\\displaystyle \\sin{\\left(x \\right)} \\cos{\\left(y \\right)}$"
      ],
      "text/plain": [
       "sin(x)⋅cos(y)"
      ]
     },
     "execution_count": 9,
     "metadata": {},
     "output_type": "execute_result"
    }
   ],
   "source": [
    "exp = sp.sin(x) * sp.cos(y)\n",
    "exp"
   ]
  },
  {
   "cell_type": "code",
   "execution_count": 10,
   "id": "2da3f6c0",
   "metadata": {},
   "outputs": [
    {
     "data": {
      "image/png": "[encoded data removed]",
      "text/latex": [
       "$\\displaystyle \\cos{\\left(x \\right)} \\cos{\\left(y \\right)}$"
      ],
      "text/plain": [
       "cos(x)⋅cos(y)"
      ]
     },
     "execution_count": 10,
     "metadata": {},
     "output_type": "execute_result"
    }
   ],
   "source": [
    "# xで偏微分\n",
    "sp.diff(exp, x)"
   ]
  },
  {
   "cell_type": "code",
   "execution_count": 11,
   "id": "c4865772",
   "metadata": {},
   "outputs": [
    {
     "data": {
      "image/png": "[encoded data removed]",
      "text/latex": [
       "$\\displaystyle - \\sin{\\left(x \\right)} \\sin{\\left(y \\right)}$"
      ],
      "text/plain": [
       "-sin(x)⋅sin(y)"
      ]
     },
     "execution_count": 11,
     "metadata": {},
     "output_type": "execute_result"
    }
   ],
   "source": [
    "# yで偏微分\n",
    "sp.diff(exp, y)"
   ]
  },
  {
   "cell_type": "code",
   "execution_count": 12,
   "id": "7cbad2b6",
   "metadata": {},
   "outputs": [
    {
     "data": {
      "image/png": "[encoded data removed]",
      "text/latex": [
       "$\\displaystyle - \\sin{\\left(y \\right)} \\cos{\\left(x \\right)}$"
      ],
      "text/plain": [
       "-sin(y)⋅cos(x)"
      ]
     },
     "execution_count": 12,
     "metadata": {},
     "output_type": "execute_result"
    }
   ],
   "source": [
    "# xで偏微分 → yで偏微分\n",
    "sp.diff(exp, x, y)"
   ]
  },
  {
   "cell_type": "code",
   "execution_count": 13,
   "id": "22a45553",
   "metadata": {},
   "outputs": [
    {
     "data": {
      "image/png": "[encoded data removed]",
      "text/latex": [
       "$\\displaystyle \\frac{\\partial^{2}}{\\partial y\\partial x} \\sin{\\left(x \\right)} \\cos{\\left(y \\right)}$"
      ],
      "text/plain": [
       "   2                \n",
       "  ∂                 \n",
       "─────(sin(x)⋅cos(y))\n",
       "∂y ∂x               "
      ]
     },
     "execution_count": 13,
     "metadata": {},
     "output_type": "execute_result"
    }
   ],
   "source": [
    "deriv = sp.Derivative(sp.sin(x) * sp.cos(y), x, y)\n",
    "deriv"
   ]
  },
  {
   "cell_type": "code",
   "execution_count": 14,
   "id": "956e2300",
   "metadata": {},
   "outputs": [
    {
     "data": {
      "image/png": "[encoded data removed]",
      "text/latex": [
       "$\\displaystyle - \\sin{\\left(y \\right)} \\cos{\\left(x \\right)}$"
      ],
      "text/plain": [
       "-sin(y)⋅cos(x)"
      ]
     },
     "execution_count": 14,
     "metadata": {},
     "output_type": "execute_result"
    }
   ],
   "source": [
    "deriv.doit()"
   ]
  },
  {
   "cell_type": "code",
   "execution_count": 15,
   "id": "914bea5f",
   "metadata": {},
   "outputs": [
    {
     "data": {
      "image/png": "[encoded data removed]",
      "text/latex": [
       "$\\displaystyle -1$"
      ],
      "text/plain": [
       "-1"
      ]
     },
     "execution_count": 15,
     "metadata": {},
     "output_type": "execute_result"
    }
   ],
   "source": [
    "# 微分後の式に値を代入\n",
    "deriv.doit().subs({x: 0, y: sp.pi / 2.0})"
   ]
  },
  {
   "cell_type": "markdown",
   "id": "c7c406e9",
   "metadata": {},
   "source": [
    "### テーラー展開を実行する\n",
    "\n",
    "- `sympy.series()`でテーラー展開することができる。\n",
    "- 数式のオブジェクトに対して、'数式.series()'を呼び出すことでも、テーラー展開できる。"
   ]
  },
  {
   "cell_type": "code",
   "execution_count": 16,
   "id": "b4ee60b5",
   "metadata": {},
   "outputs": [
    {
     "data": {
      "image/png": "[encoded data removed]",
      "text/latex": [
       "$\\displaystyle x - \\frac{x^{2}}{2} + \\frac{x^{3}}{3} - \\frac{x^{4}}{4} + \\frac{x^{5}}{5} + O\\left(x^{6}\\right)$"
      ],
      "text/plain": [
       "     2    3    4    5        \n",
       "    x    x    x    x     ⎛ 6⎞\n",
       "x - ── + ── - ── + ── + O⎝x ⎠\n",
       "    2    3    4    5         "
      ]
     },
     "execution_count": 16,
     "metadata": {},
     "output_type": "execute_result"
    }
   ],
   "source": [
    "sp.series(sp.log(x + 1), x)"
   ]
  },
  {
   "cell_type": "code",
   "execution_count": 17,
   "id": "08349808",
   "metadata": {},
   "outputs": [
    {
     "data": {
      "image/png": "[encoded data removed]",
      "text/latex": [
       "$\\displaystyle x - \\frac{x^{2}}{2} + \\frac{x^{3}}{3} - \\frac{x^{4}}{4} + \\frac{x^{5}}{5} + O\\left(x^{6}\\right)$"
      ],
      "text/plain": [
       "     2    3    4    5        \n",
       "    x    x    x    x     ⎛ 6⎞\n",
       "x - ── + ── - ── + ── + O⎝x ⎠\n",
       "    2    3    4    5         "
      ]
     },
     "execution_count": 17,
     "metadata": {},
     "output_type": "execute_result"
    }
   ],
   "source": [
    "# 数式オブジェクトに対してもテーラー展開できる\n",
    "sp.log(x + 1).series(x)"
   ]
  },
  {
   "cell_type": "code",
   "execution_count": 18,
   "id": "a9ead593",
   "metadata": {},
   "outputs": [
    {
     "data": {
      "image/png": "[encoded data removed]",
      "text/latex": [
       "$\\displaystyle x - \\frac{x^{2}}{2} + O\\left(x^{3}\\right)$"
      ],
      "text/plain": [
       "     2        \n",
       "    x     ⎛ 3⎞\n",
       "x - ── + O⎝x ⎠\n",
       "    2         "
      ]
     },
     "execution_count": 18,
     "metadata": {},
     "output_type": "execute_result"
    }
   ],
   "source": [
    "# テーラー展開の次数も指定可能\n",
    "sp.series(sp.log(x + 1), x, 0, 3)"
   ]
  },
  {
   "cell_type": "markdown",
   "id": "d0b8da41",
   "metadata": {},
   "source": [
    "### 積分を実行する\n",
    "\n",
    "- 積分は、`sympy.integrate()`で実行できる。\n",
    "  + 積分範囲積分範囲を指定しない場合は、不定積分として扱われる。\n",
    "  + 積分範囲ありの場合は、定積分となる。\n",
    "- `sympy.Integral`を使用することで、積分を定義することができる。\n",
    "  + 積分の実行は、`sympy.Integral.doit()`で行うことができる。"
   ]
  },
  {
   "cell_type": "code",
   "execution_count": 19,
   "id": "f7b62087",
   "metadata": {},
   "outputs": [
    {
     "data": {
      "image/png": "[encoded data removed]",
      "text/latex": [
       "$\\displaystyle x^{2} + 2 x - 3$"
      ],
      "text/plain": [
       " 2          \n",
       "x  + 2⋅x - 3"
      ]
     },
     "execution_count": 19,
     "metadata": {},
     "output_type": "execute_result"
    }
   ],
   "source": [
    "exp = x ** 2 + 2 * x - 3\n",
    "exp"
   ]
  },
  {
   "cell_type": "code",
   "execution_count": 20,
   "id": "d8cf71e7",
   "metadata": {},
   "outputs": [
    {
     "data": {
      "image/png": "[encoded data removed]",
      "text/latex": [
       "$\\displaystyle \\frac{x^{3}}{3} + x^{2} - 3 x$"
      ],
      "text/plain": [
       " 3           \n",
       "x     2      \n",
       "── + x  - 3⋅x\n",
       "3            "
      ]
     },
     "execution_count": 20,
     "metadata": {},
     "output_type": "execute_result"
    }
   ],
   "source": [
    "# 不定積分\n",
    "sp.integrate(exp, x)"
   ]
  },
  {
   "cell_type": "code",
   "execution_count": 21,
   "id": "cb74de54",
   "metadata": {},
   "outputs": [
    {
     "data": {
      "image/png": "[encoded data removed]",
      "text/latex": [
       "$\\displaystyle - \\frac{5}{3}$"
      ],
      "text/plain": [
       "-5/3"
      ]
     },
     "execution_count": 21,
     "metadata": {},
     "output_type": "execute_result"
    }
   ],
   "source": [
    "# 定積分\n",
    "sp.integrate(exp, (x, 0, 1))"
   ]
  },
  {
   "cell_type": "code",
   "execution_count": 22,
   "id": "0a83b669",
   "metadata": {},
   "outputs": [
    {
     "data": {
      "image/png": "[encoded data removed]",
      "text/latex": [
       "$\\displaystyle \\int\\limits_{-\\infty}^{\\infty} e^{- x^{2}}\\, dx$"
      ],
      "text/plain": [
       "∞         \n",
       "⌠         \n",
       "⎮     2   \n",
       "⎮   -x    \n",
       "⎮  ℯ    dx\n",
       "⌡         \n",
       "-∞        "
      ]
     },
     "execution_count": 22,
     "metadata": {},
     "output_type": "execute_result"
    }
   ],
   "source": [
    "exp = sp.exp(-x ** 2)\n",
    "\n",
    "# 積分の定義 (この段階では積分は実行されない)\n",
    "integ = sp.Integral(exp, (x, -sp.oo, sp.oo))\n",
    "integ"
   ]
  },
  {
   "cell_type": "code",
   "execution_count": 23,
   "id": "607aede3",
   "metadata": {},
   "outputs": [
    {
     "data": {
      "image/png": "[encoded data removed]",
      "text/latex": [
       "$\\displaystyle \\sqrt{\\pi}$"
      ],
      "text/plain": [
       "√π"
      ]
     },
     "execution_count": 23,
     "metadata": {},
     "output_type": "execute_result"
    }
   ],
   "source": [
    "integ.doit()"
   ]
  },
  {
   "cell_type": "markdown",
   "id": "115c9e5e",
   "metadata": {},
   "source": [
    "### 微分方程式を解く\n",
    "\n",
    "- 微分方程式のために、`sympy.Function`で関数を定義する必要がある。\n",
    "- `sympy.dsolve()`で微分方程式を解くことが出来る。"
   ]
  },
  {
   "cell_type": "code",
   "execution_count": 24,
   "id": "a223be70",
   "metadata": {},
   "outputs": [
    {
     "data": {
      "image/png": "[encoded data removed]",
      "text/latex": [
       "$\\displaystyle f{\\left(x \\right)}$"
      ],
      "text/plain": [
       "f(x)"
      ]
     },
     "execution_count": 24,
     "metadata": {},
     "output_type": "execute_result"
    }
   ],
   "source": [
    "x = sp.Symbol('x')\n",
    "f = sp.Function('f')\n",
    "f(x)"
   ]
  },
  {
   "cell_type": "code",
   "execution_count": 25,
   "id": "42bc30a0",
   "metadata": {},
   "outputs": [
    {
     "data": {
      "image/png": "[encoded data removed]",
      "text/latex": [
       "$\\displaystyle \\frac{d}{d x} f{\\left(x \\right)}$"
      ],
      "text/plain": [
       "d       \n",
       "──(f(x))\n",
       "dx      "
      ]
     },
     "execution_count": 25,
     "metadata": {},
     "output_type": "execute_result"
    }
   ],
   "source": [
    "# 微分の定義\n",
    "fx = sp.diff(f(x), x)\n",
    "fx"
   ]
  },
  {
   "cell_type": "code",
   "execution_count": 26,
   "id": "4ea68371",
   "metadata": {},
   "outputs": [
    {
     "data": {
      "image/png": "[encoded data removed]",
      "text/latex": [
       "$\\displaystyle \\frac{d}{d x} f{\\left(x \\right)} = \\frac{1}{x + 1}$"
      ],
      "text/plain": [
       "d            1  \n",
       "──(f(x)) = ─────\n",
       "dx         x + 1"
      ]
     },
     "execution_count": 26,
     "metadata": {},
     "output_type": "execute_result"
    }
   ],
   "source": [
    "# 微分方程式の作成\n",
    "equation = sp.Eq(fx, 1 / (1 + x))\n",
    "equation"
   ]
  },
  {
   "cell_type": "code",
   "execution_count": 27,
   "id": "84ee958b",
   "metadata": {},
   "outputs": [
    {
     "data": {
      "image/png": "[encoded data removed]",
      "text/latex": [
       "$\\displaystyle f{\\left(x \\right)} = C_{1} + \\log{\\left(x + 1 \\right)}$"
      ],
      "text/plain": [
       "f(x) = C₁ + log(x + 1)"
      ]
     },
     "execution_count": 27,
     "metadata": {},
     "output_type": "execute_result"
    }
   ],
   "source": [
    "sp.dsolve(equation)"
   ]
  },
  {
   "cell_type": "code",
   "execution_count": 28,
   "id": "cd82faac",
   "metadata": {},
   "outputs": [
    {
     "data": {
      "image/png": "[encoded data removed]",
      "text/latex": [
       "$\\displaystyle \\frac{d^{2}}{d t^{2}} x{\\left(t \\right)} = - x{\\left(t \\right)}$"
      ],
      "text/plain": [
       "  2              \n",
       " d               \n",
       "───(x(t)) = -x(t)\n",
       "  2              \n",
       "dt               "
      ]
     },
     "execution_count": 28,
     "metadata": {},
     "output_type": "execute_result"
    }
   ],
   "source": [
    "# 2階の微分方程式\n",
    "t = sp.Symbol('t')\n",
    "x = sp.Function('x')\n",
    "lhs = sp.diff(x(t), t, 2)\n",
    "rhs = -1 * x(t)\n",
    "\n",
    "equation = sp.Eq(lhs, rhs)\n",
    "equation"
   ]
  },
  {
   "cell_type": "code",
   "execution_count": 29,
   "id": "112d8d5a",
   "metadata": {},
   "outputs": [
    {
     "data": {
      "image/png": "[encoded data removed]",
      "text/latex": [
       "$\\displaystyle x{\\left(t \\right)} = C_{1} \\sin{\\left(t \\right)} + C_{2} \\cos{\\left(t \\right)}$"
      ],
      "text/plain": [
       "x(t) = C₁⋅sin(t) + C₂⋅cos(t)"
      ]
     },
     "execution_count": 29,
     "metadata": {},
     "output_type": "execute_result"
    }
   ],
   "source": [
    "ans = sp.dsolve(equation)\n",
    "ans"
   ]
  },
  {
   "cell_type": "code",
   "execution_count": 30,
   "id": "bdce4e88",
   "metadata": {},
   "outputs": [
    {
     "data": {
      "image/png": "[encoded data removed]",
      "text/latex": [
       "$\\displaystyle x{\\left(t \\right)} = C_{2} \\cos{\\left(t \\right)} + 2.0 \\sin{\\left(t \\right)}$"
      ],
      "text/plain": [
       "x(t) = C₂⋅cos(t) + 2.0⋅sin(t)"
      ]
     },
     "execution_count": 30,
     "metadata": {},
     "output_type": "execute_result"
    }
   ],
   "source": [
    "# 積分定数に値を代入する\n",
    "C1, C2 = sp.symbols('C1 C2')\n",
    "ans.subs({C1: 2.0})"
   ]
  },
  {
   "cell_type": "code",
   "execution_count": null,
   "id": "1f40605c",
   "metadata": {},
   "outputs": [],
   "source": []
  }
 ],
 "metadata": {
  "kernelspec": {
   "display_name": "Python 3",
   "language": "python",
   "name": "python3"
  },
  "language_info": {
   "codemirror_mode": {
    "name": "ipython",
    "version": 3
   },
   "file_extension": ".py",
   "mimetype": "text/x-python",
   "name": "python",
   "nbconvert_exporter": "python",
   "pygments_lexer": "ipython3",
   "version": "3.8.8"
  }
 },
 "nbformat": 4,
 "nbformat_minor": 5
}
