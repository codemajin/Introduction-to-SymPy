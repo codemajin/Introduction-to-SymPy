{
 "cells": [
  {
   "cell_type": "code",
   "execution_count": 1,
   "id": "0b6f608b",
   "metadata": {},
   "outputs": [
    {
     "name": "stdout",
     "output_type": "stream",
     "text": [
      "SymPy Version: 1.8\n"
     ]
    }
   ],
   "source": [
    "import sympy as sp\n",
    "from sympy.physics.quantum import TensorProduct\n",
    "import numpy as np\n",
    "\n",
    "print(f\"SymPy Version: {sp.__version__}\")\n",
    "\n",
    "# 数式をキレイに表示する\n",
    "sp.init_printing()"
   ]
  },
  {
   "cell_type": "markdown",
   "id": "4d3620c8",
   "metadata": {},
   "source": [
    "### ベクトルを生成する\n",
    "\n",
    "- ベクトルの生成には、`sympy.Matrix`を使用する。\n",
    "  + 生成されたベクトルは列ベクトルになる。\n",
    "  + `ベクトル.T`とすることで、行ベクトルを作ることができる(いわゆる、行列の転置に相当)"
   ]
  },
  {
   "cell_type": "code",
   "execution_count": 2,
   "id": "7f21268a",
   "metadata": {},
   "outputs": [
    {
     "data": {
      "text/latex": [
       "$\\displaystyle \\left[\\begin{matrix}0\\\\1\\\\2\\\\3\\end{matrix}\\right]$"
      ],
      "text/plain": [
       "⎡0⎤\n",
       "⎢ ⎥\n",
       "⎢1⎥\n",
       "⎢ ⎥\n",
       "⎢2⎥\n",
       "⎢ ⎥\n",
       "⎣3⎦"
      ]
     },
     "execution_count": 2,
     "metadata": {},
     "output_type": "execute_result"
    }
   ],
   "source": [
    "vec1 = sp.Matrix([0, 1, 2, 3])\n",
    "vec1"
   ]
  },
  {
   "cell_type": "code",
   "execution_count": 3,
   "id": "27fe09f1",
   "metadata": {},
   "outputs": [
    {
     "data": {
      "text/latex": [
       "$\\displaystyle \\left[\\begin{matrix}0 & 1 & 2 & 3\\end{matrix}\\right]$"
      ],
      "text/plain": [
       "[0  1  2  3]"
      ]
     },
     "execution_count": 3,
     "metadata": {},
     "output_type": "execute_result"
    }
   ],
   "source": [
    "vec1.T"
   ]
  },
  {
   "cell_type": "code",
   "execution_count": 4,
   "id": "10abffb4",
   "metadata": {},
   "outputs": [
    {
     "data": {
      "text/latex": [
       "$\\displaystyle \\left[\\begin{matrix}0\\\\1\\\\2\\\\3\\\\4\\end{matrix}\\right]$"
      ],
      "text/plain": [
       "⎡0⎤\n",
       "⎢ ⎥\n",
       "⎢1⎥\n",
       "⎢ ⎥\n",
       "⎢2⎥\n",
       "⎢ ⎥\n",
       "⎢3⎥\n",
       "⎢ ⎥\n",
       "⎣4⎦"
      ]
     },
     "execution_count": 4,
     "metadata": {},
     "output_type": "execute_result"
    }
   ],
   "source": [
    "# numpyからベクトルを作ることも出来る\n",
    "sp.Matrix(np.arange(5))"
   ]
  },
  {
   "cell_type": "markdown",
   "id": "50bb1bf6",
   "metadata": {},
   "source": [
    "### 行列を生成する\n",
    "\n",
    "- 行列の生成においても、`sympy.Matrix`を使用する。\n",
    "- 単位行列は、`sympy.eye()`で生成できる。\n",
    "- ゼロ行列は、`sympy.zeros()`で生成できる。\n",
    "- 対角行列は、`sympy.diag()`で生成できる。\n",
    "- 行列のシンボルを使用する場合、`sympy.MatrixSymbol`を使用する。"
   ]
  },
  {
   "cell_type": "code",
   "execution_count": 5,
   "id": "62cfa003",
   "metadata": {},
   "outputs": [
    {
     "data": {
      "text/latex": [
       "$\\displaystyle \\left[\\begin{matrix}1 & 2\\\\3 & 4\\end{matrix}\\right]$"
      ],
      "text/plain": [
       "⎡1  2⎤\n",
       "⎢    ⎥\n",
       "⎣3  4⎦"
      ]
     },
     "execution_count": 5,
     "metadata": {},
     "output_type": "execute_result"
    }
   ],
   "source": [
    "mat = sp.Matrix([[1, 2], [3, 4]])\n",
    "mat"
   ]
  },
  {
   "cell_type": "code",
   "execution_count": 6,
   "id": "109bb58e",
   "metadata": {},
   "outputs": [
    {
     "data": {
      "text/latex": [
       "$\\displaystyle \\left[\\begin{matrix}1 & 0 & 0\\\\0 & 1 & 0\\\\0 & 0 & 1\\end{matrix}\\right]$"
      ],
      "text/plain": [
       "⎡1  0  0⎤\n",
       "⎢       ⎥\n",
       "⎢0  1  0⎥\n",
       "⎢       ⎥\n",
       "⎣0  0  1⎦"
      ]
     },
     "execution_count": 6,
     "metadata": {},
     "output_type": "execute_result"
    }
   ],
   "source": [
    "sp.eye(3)"
   ]
  },
  {
   "cell_type": "code",
   "execution_count": 7,
   "id": "988c73eb",
   "metadata": {},
   "outputs": [
    {
     "data": {
      "text/latex": [
       "$\\displaystyle \\left[\\begin{matrix}0 & 0 & 0 & 0 & 0\\\\0 & 0 & 0 & 0 & 0\\end{matrix}\\right]$"
      ],
      "text/plain": [
       "⎡0  0  0  0  0⎤\n",
       "⎢             ⎥\n",
       "⎣0  0  0  0  0⎦"
      ]
     },
     "execution_count": 7,
     "metadata": {},
     "output_type": "execute_result"
    }
   ],
   "source": [
    "sp.zeros(2, 5)"
   ]
  },
  {
   "cell_type": "code",
   "execution_count": 8,
   "id": "9ee711d9",
   "metadata": {},
   "outputs": [
    {
     "data": {
      "text/latex": [
       "$\\displaystyle \\left[\\begin{matrix}1 & 0 & 0 & 0\\\\0 & 0 & 0 & 0\\\\0 & 0 & 2 & 0\\\\0 & 0 & 0 & 4\\end{matrix}\\right]$"
      ],
      "text/plain": [
       "⎡1  0  0  0⎤\n",
       "⎢          ⎥\n",
       "⎢0  0  0  0⎥\n",
       "⎢          ⎥\n",
       "⎢0  0  2  0⎥\n",
       "⎢          ⎥\n",
       "⎣0  0  0  4⎦"
      ]
     },
     "execution_count": 8,
     "metadata": {},
     "output_type": "execute_result"
    }
   ],
   "source": [
    "sp.diag(1, 0, 2, 4)"
   ]
  },
  {
   "cell_type": "code",
   "execution_count": 9,
   "id": "d35711b5",
   "metadata": {},
   "outputs": [
    {
     "data": {
      "text/latex": [
       "$\\displaystyle \\left[\\begin{array}{cccc}X_{0, 0} & X_{0, 1} & X_{0, 2} & X_{0, 3}\\\\X_{1, 0} & X_{1, 1} & X_{1, 2} & X_{1, 3}\\\\X_{2, 0} & X_{2, 1} & X_{2, 2} & X_{2, 3}\\end{array}\\right]$"
      ],
      "text/plain": [
       "⎡X₀₀  X₀₁  X₀₂  X₀₃⎤\n",
       "⎢                  ⎥\n",
       "⎢X₁₀  X₁₁  X₁₂  X₁₃⎥\n",
       "⎢                  ⎥\n",
       "⎣X₂₀  X₂₁  X₂₂  X₂₃⎦"
      ]
     },
     "execution_count": 9,
     "metadata": {},
     "output_type": "execute_result"
    }
   ],
   "source": [
    "mat2 = sp.MatrixSymbol('X', 3, 4)\n",
    "mat2 = sp.Matrix(mat2)\n",
    "mat2"
   ]
  },
  {
   "cell_type": "code",
   "execution_count": 10,
   "id": "ed83be39",
   "metadata": {},
   "outputs": [
    {
     "data": {
      "text/latex": [
       "$\\displaystyle \\left[\\begin{array}{cccc}1 & X_{0, 1} & X_{0, 2} & X_{0, 3}\\\\X_{1, 0} & X_{1, 1} & X_{1, 2} & X_{1, 3}\\\\X_{2, 0} & X_{2, 1} & X_{2, 2} & X_{2, 3}\\end{array}\\right]$"
      ],
      "text/plain": [
       "⎡ 1   X₀₁  X₀₂  X₀₃⎤\n",
       "⎢                  ⎥\n",
       "⎢X₁₀  X₁₁  X₁₂  X₁₃⎥\n",
       "⎢                  ⎥\n",
       "⎣X₂₀  X₂₁  X₂₂  X₂₃⎦"
      ]
     },
     "execution_count": 10,
     "metadata": {},
     "output_type": "execute_result"
    }
   ],
   "source": [
    "# 行列の要素にアクセスもできる\n",
    "mat2[0, 0] = 1\n",
    "mat2"
   ]
  },
  {
   "cell_type": "markdown",
   "id": "4ae96232",
   "metadata": {},
   "source": [
    "### ベクトルの演算\n",
    "\n",
    "- 加算、乗算は`+`, `-`演算子で実行できる。\n",
    "- 定数を掛けることで、ベクトルのスカラー倍も可能\n",
    "- 内積には、`v1.dot(v2)`を用いる。\n",
    "- 要素ごとの乗算(アダマール積)には、`v1.multiply_elementwise(v2)`を用いる。\n",
    "- ベクトルの大きさは、`v1.norm()`で計算できる。"
   ]
  },
  {
   "cell_type": "code",
   "execution_count": 11,
   "id": "d2efb614",
   "metadata": {},
   "outputs": [],
   "source": [
    "vec1 = sp.Matrix(np.arange(4))\n",
    "vec2 = sp.Matrix(np.arange(4))"
   ]
  },
  {
   "cell_type": "code",
   "execution_count": 12,
   "id": "97bb1899",
   "metadata": {},
   "outputs": [
    {
     "data": {
      "text/latex": [
       "$\\displaystyle \\left[\\begin{matrix}0\\\\2\\\\4\\\\6\\end{matrix}\\right]$"
      ],
      "text/plain": [
       "⎡0⎤\n",
       "⎢ ⎥\n",
       "⎢2⎥\n",
       "⎢ ⎥\n",
       "⎢4⎥\n",
       "⎢ ⎥\n",
       "⎣6⎦"
      ]
     },
     "execution_count": 12,
     "metadata": {},
     "output_type": "execute_result"
    }
   ],
   "source": [
    "vec1 + vec2"
   ]
  },
  {
   "cell_type": "code",
   "execution_count": 13,
   "id": "e8fd9be3",
   "metadata": {},
   "outputs": [
    {
     "data": {
      "text/latex": [
       "$\\displaystyle \\left[\\begin{matrix}0\\\\1.5\\\\3.0\\\\4.5\\end{matrix}\\right]$"
      ],
      "text/plain": [
       "⎡ 0 ⎤\n",
       "⎢   ⎥\n",
       "⎢1.5⎥\n",
       "⎢   ⎥\n",
       "⎢3.0⎥\n",
       "⎢   ⎥\n",
       "⎣4.5⎦"
      ]
     },
     "execution_count": 13,
     "metadata": {},
     "output_type": "execute_result"
    }
   ],
   "source": [
    "2 * vec1 - 0.5 * vec2"
   ]
  },
  {
   "cell_type": "code",
   "execution_count": 14,
   "id": "f2644789",
   "metadata": {},
   "outputs": [
    {
     "data": {
      "image/png": "[encoded data removed]",
      "text/latex": [
       "$\\displaystyle 14$"
      ],
      "text/plain": [
       "14"
      ]
     },
     "execution_count": 14,
     "metadata": {},
     "output_type": "execute_result"
    }
   ],
   "source": [
    "# 内積\n",
    "vec1.dot(vec2)"
   ]
  },
  {
   "cell_type": "code",
   "execution_count": 15,
   "id": "7a266fc9",
   "metadata": {},
   "outputs": [
    {
     "data": {
      "text/latex": [
       "$\\displaystyle \\left[\\begin{matrix}0\\\\1\\\\4\\\\9\\end{matrix}\\right]$"
      ],
      "text/plain": [
       "⎡0⎤\n",
       "⎢ ⎥\n",
       "⎢1⎥\n",
       "⎢ ⎥\n",
       "⎢4⎥\n",
       "⎢ ⎥\n",
       "⎣9⎦"
      ]
     },
     "execution_count": 15,
     "metadata": {},
     "output_type": "execute_result"
    }
   ],
   "source": [
    "# 要素ごとの乗算 (アダマール積)\n",
    "vec1.multiply_elementwise(vec2)"
   ]
  },
  {
   "cell_type": "code",
   "execution_count": 16,
   "id": "5c72bf8e",
   "metadata": {},
   "outputs": [
    {
     "data": {
      "image/png": "[encoded data removed]",
      "text/latex": [
       "$\\displaystyle \\sqrt{14}$"
      ],
      "text/plain": [
       "√14"
      ]
     },
     "execution_count": 16,
     "metadata": {},
     "output_type": "execute_result"
    }
   ],
   "source": [
    "# ベクトルの大きさ\n",
    "vec1.norm()"
   ]
  },
  {
   "cell_type": "markdown",
   "id": "b9618366",
   "metadata": {},
   "source": [
    "### 行列の演算\n",
    "\n",
    "- 加算、乗算は`+`, `-`演算子で実行できる。\n",
    "- `*`演算子は、行列積となる。\n",
    "- `mat.T`で、転置行列を計算できる。\n",
    "- `mat.inv()`で、逆行列を計算できる。\n",
    "- `mat.det()`で、行列式を計算できる。"
   ]
  },
  {
   "cell_type": "code",
   "execution_count": 17,
   "id": "87fbd8ae",
   "metadata": {},
   "outputs": [
    {
     "data": {
      "text/latex": [
       "$\\displaystyle \\left[\\begin{matrix}0 & 1\\\\2 & 3\\end{matrix}\\right]$"
      ],
      "text/plain": [
       "⎡0  1⎤\n",
       "⎢    ⎥\n",
       "⎣2  3⎦"
      ]
     },
     "execution_count": 17,
     "metadata": {},
     "output_type": "execute_result"
    }
   ],
   "source": [
    "mat1 = sp.Matrix(np.arange(0, 4).reshape(2, 2))\n",
    "mat1"
   ]
  },
  {
   "cell_type": "code",
   "execution_count": 18,
   "id": "8003db3c",
   "metadata": {},
   "outputs": [
    {
     "data": {
      "text/latex": [
       "$\\displaystyle \\left[\\begin{matrix}5 & 6\\\\7 & 8\\end{matrix}\\right]$"
      ],
      "text/plain": [
       "⎡5  6⎤\n",
       "⎢    ⎥\n",
       "⎣7  8⎦"
      ]
     },
     "execution_count": 18,
     "metadata": {},
     "output_type": "execute_result"
    }
   ],
   "source": [
    "mat2 = sp.Matrix(np.arange(5, 9).reshape(2, 2))\n",
    "mat2"
   ]
  },
  {
   "cell_type": "code",
   "execution_count": 19,
   "id": "7127c9d2",
   "metadata": {},
   "outputs": [
    {
     "data": {
      "text/latex": [
       "$\\displaystyle \\left[\\begin{matrix}5 & 7\\\\9 & 11\\end{matrix}\\right]$"
      ],
      "text/plain": [
       "⎡5  7 ⎤\n",
       "⎢     ⎥\n",
       "⎣9  11⎦"
      ]
     },
     "execution_count": 19,
     "metadata": {},
     "output_type": "execute_result"
    }
   ],
   "source": [
    "mat1 + mat2"
   ]
  },
  {
   "cell_type": "code",
   "execution_count": 20,
   "id": "20b9a95e",
   "metadata": {},
   "outputs": [
    {
     "data": {
      "text/latex": [
       "$\\displaystyle \\left[\\begin{matrix}-2.5 & -1.0\\\\0.5 & 2.0\\end{matrix}\\right]$"
      ],
      "text/plain": [
       "⎡-2.5  -1.0⎤\n",
       "⎢          ⎥\n",
       "⎣0.5   2.0 ⎦"
      ]
     },
     "execution_count": 20,
     "metadata": {},
     "output_type": "execute_result"
    }
   ],
   "source": [
    "2.0 * mat1 - 0.5 * mat2"
   ]
  },
  {
   "cell_type": "code",
   "execution_count": 21,
   "id": "6a74fb72",
   "metadata": {},
   "outputs": [
    {
     "data": {
      "text/latex": [
       "$\\displaystyle \\left[\\begin{matrix}7 & 8\\\\31 & 36\\end{matrix}\\right]$"
      ],
      "text/plain": [
       "⎡7   8 ⎤\n",
       "⎢      ⎥\n",
       "⎣31  36⎦"
      ]
     },
     "execution_count": 21,
     "metadata": {},
     "output_type": "execute_result"
    }
   ],
   "source": [
    "# 行列式\n",
    "mat1 * mat2"
   ]
  },
  {
   "cell_type": "code",
   "execution_count": 22,
   "id": "224d2093",
   "metadata": {},
   "outputs": [
    {
     "data": {
      "text/latex": [
       "$\\displaystyle \\left[\\begin{matrix}0 & 2\\\\1 & 3\\end{matrix}\\right]$"
      ],
      "text/plain": [
       "⎡0  2⎤\n",
       "⎢    ⎥\n",
       "⎣1  3⎦"
      ]
     },
     "execution_count": 22,
     "metadata": {},
     "output_type": "execute_result"
    }
   ],
   "source": [
    "# 転置行列\n",
    "mat1.T"
   ]
  },
  {
   "cell_type": "code",
   "execution_count": 23,
   "id": "2587ea5c",
   "metadata": {},
   "outputs": [
    {
     "data": {
      "text/latex": [
       "$\\displaystyle \\left[\\begin{matrix}- \\frac{3}{2} & \\frac{1}{2}\\\\1 & 0\\end{matrix}\\right]$"
      ],
      "text/plain": [
       "⎡-3/2  1/2⎤\n",
       "⎢         ⎥\n",
       "⎣ 1     0 ⎦"
      ]
     },
     "execution_count": 23,
     "metadata": {},
     "output_type": "execute_result"
    }
   ],
   "source": [
    "# 逆行列\n",
    "mat1.inv()"
   ]
  },
  {
   "cell_type": "code",
   "execution_count": 24,
   "id": "dd6db2e8",
   "metadata": {},
   "outputs": [
    {
     "data": {
      "text/latex": [
       "$\\displaystyle \\left[\\begin{matrix}1 & 0\\\\0 & 1\\end{matrix}\\right]$"
      ],
      "text/plain": [
       "⎡1  0⎤\n",
       "⎢    ⎥\n",
       "⎣0  1⎦"
      ]
     },
     "execution_count": 24,
     "metadata": {},
     "output_type": "execute_result"
    }
   ],
   "source": [
    "mat1.inv() * mat1"
   ]
  },
  {
   "cell_type": "code",
   "execution_count": 25,
   "id": "152bf6b8",
   "metadata": {},
   "outputs": [
    {
     "data": {
      "image/png": "[encoded data removed]",
      "text/latex": [
       "$\\displaystyle -2$"
      ],
      "text/plain": [
       "-2"
      ]
     },
     "execution_count": 25,
     "metadata": {},
     "output_type": "execute_result"
    }
   ],
   "source": [
    "# 行列式\n",
    "mat1.det()"
   ]
  },
  {
   "cell_type": "markdown",
   "id": "d022e563",
   "metadata": {},
   "source": [
    "### 関数の適用\n",
    "\n",
    "- `行列.applyfunc()`を使用することで、要素ごとの計算が可能になる。\n",
    "  + 引数には、関数オブジェク、またはラムダ式を使用する。"
   ]
  },
  {
   "cell_type": "code",
   "execution_count": 26,
   "id": "6b8f4075",
   "metadata": {},
   "outputs": [
    {
     "data": {
      "text/latex": [
       "$\\displaystyle \\left[\\begin{array}{ccc}X_{0, 0} & X_{0, 1} & X_{0, 2}\\\\X_{1, 0} & X_{1, 1} & X_{1, 2}\\\\X_{2, 0} & X_{2, 1} & X_{2, 2}\\end{array}\\right]$"
      ],
      "text/plain": [
       "⎡X₀₀  X₀₁  X₀₂⎤\n",
       "⎢             ⎥\n",
       "⎢X₁₀  X₁₁  X₁₂⎥\n",
       "⎢             ⎥\n",
       "⎣X₂₀  X₂₁  X₂₂⎦"
      ]
     },
     "execution_count": 26,
     "metadata": {},
     "output_type": "execute_result"
    }
   ],
   "source": [
    "x = sp.Matrix(sp.MatrixSymbol('X', 3, 3))\n",
    "x"
   ]
  },
  {
   "cell_type": "code",
   "execution_count": 27,
   "id": "f7b62cdd",
   "metadata": {},
   "outputs": [
    {
     "data": {
      "text/latex": [
       "$\\displaystyle \\left[\\begin{matrix}X_{0, 0}^{2} + X_{0, 1} X_{1, 0} + X_{0, 2} X_{2, 0} & X_{0, 0} X_{0, 1} + X_{0, 1} X_{1, 1} + X_{0, 2} X_{2, 1} & X_{0, 0} X_{0, 2} + X_{0, 1} X_{1, 2} + X_{0, 2} X_{2, 2}\\\\X_{0, 0} X_{1, 0} + X_{1, 0} X_{1, 1} + X_{1, 2} X_{2, 0} & X_{0, 1} X_{1, 0} + X_{1, 1}^{2} + X_{1, 2} X_{2, 1} & X_{0, 2} X_{1, 0} + X_{1, 1} X_{1, 2} + X_{1, 2} X_{2, 2}\\\\X_{0, 0} X_{2, 0} + X_{1, 0} X_{2, 1} + X_{2, 0} X_{2, 2} & X_{0, 1} X_{2, 0} + X_{1, 1} X_{2, 1} + X_{2, 1} X_{2, 2} & X_{0, 2} X_{2, 0} + X_{1, 2} X_{2, 1} + X_{2, 2}^{2}\\end{matrix}\\right]$"
      ],
      "text/plain": [
       "⎡    2                                                                        \n",
       "⎢ X₀₀  + X₀₁⋅X₁₀ + X₀₂⋅X₂₀    X₀₀⋅X₀₁ + X₀₁⋅X₁₁ + X₀₂⋅X₂₁  X₀₀⋅X₀₂ + X₀₁⋅X₁₂ +\n",
       "⎢                                                                             \n",
       "⎢                                           2                                 \n",
       "⎢X₀₀⋅X₁₀ + X₁₀⋅X₁₁ + X₁₂⋅X₂₀   X₀₁⋅X₁₀ + X₁₁  + X₁₂⋅X₂₁    X₀₂⋅X₁₀ + X₁₁⋅X₁₂ +\n",
       "⎢                                                                             \n",
       "⎢                                                                             \n",
       "⎣X₀₀⋅X₂₀ + X₁₀⋅X₂₁ + X₂₀⋅X₂₂  X₀₁⋅X₂₀ + X₁₁⋅X₂₁ + X₂₁⋅X₂₂   X₀₂⋅X₂₀ + X₁₂⋅X₂₁ \n",
       "\n",
       "        ⎤\n",
       " X₀₂⋅X₂₂⎥\n",
       "        ⎥\n",
       "        ⎥\n",
       " X₁₂⋅X₂₂⎥\n",
       "        ⎥\n",
       "     2  ⎥\n",
       "+ X₂₂   ⎦"
      ]
     },
     "execution_count": 27,
     "metadata": {},
     "output_type": "execute_result"
    }
   ],
   "source": [
    "# 単純に2乗すると、行列積となる。\n",
    "x ** 2"
   ]
  },
  {
   "cell_type": "code",
   "execution_count": 28,
   "id": "94b93ce9",
   "metadata": {},
   "outputs": [
    {
     "data": {
      "text/latex": [
       "$\\displaystyle \\left[\\begin{matrix}X_{0, 0}^{2} & X_{0, 1}^{2} & X_{0, 2}^{2}\\\\X_{1, 0}^{2} & X_{1, 1}^{2} & X_{1, 2}^{2}\\\\X_{2, 0}^{2} & X_{2, 1}^{2} & X_{2, 2}^{2}\\end{matrix}\\right]$"
      ],
      "text/plain": [
       "⎡   2     2     2⎤\n",
       "⎢X₀₀   X₀₁   X₀₂ ⎥\n",
       "⎢                ⎥\n",
       "⎢   2     2     2⎥\n",
       "⎢X₁₀   X₁₁   X₁₂ ⎥\n",
       "⎢                ⎥\n",
       "⎢   2     2     2⎥\n",
       "⎣X₂₀   X₂₁   X₂₂ ⎦"
      ]
     },
     "execution_count": 28,
     "metadata": {},
     "output_type": "execute_result"
    }
   ],
   "source": [
    "# applyfunc を用いることで、要素ごとに2乗することも可能\n",
    "x.applyfunc(lambda y: y ** 2)"
   ]
  },
  {
   "cell_type": "markdown",
   "id": "fe4d2444",
   "metadata": {},
   "source": [
    "### ベクトルの直交化\n",
    "\n",
    "- `symply.GramSchmidt()`を使用することで、グラム・シュミットの正規直交化を行うことができる。\n",
    "- `symply.Matrix.orthogonalize()`でも、同様の結果が得られる。"
   ]
  },
  {
   "cell_type": "code",
   "execution_count": 29,
   "id": "7cc8d313",
   "metadata": {},
   "outputs": [
    {
     "data": {
      "text/latex": [
       "$\\displaystyle \\left( \\left[\\begin{matrix}1\\\\1\\\\0\\end{matrix}\\right], \\  \\left[\\begin{matrix}0\\\\-1\\\\1\\end{matrix}\\right], \\  \\left[\\begin{matrix}1\\\\1\\\\1\\end{matrix}\\right]\\right)$"
      ],
      "text/plain": [
       "⎛⎡1⎤  ⎡0 ⎤  ⎡1⎤⎞\n",
       "⎜⎢ ⎥  ⎢  ⎥  ⎢ ⎥⎟\n",
       "⎜⎢1⎥, ⎢-1⎥, ⎢1⎥⎟\n",
       "⎜⎢ ⎥  ⎢  ⎥  ⎢ ⎥⎟\n",
       "⎝⎣0⎦  ⎣1 ⎦  ⎣1⎦⎠"
      ]
     },
     "execution_count": 29,
     "metadata": {},
     "output_type": "execute_result"
    }
   ],
   "source": [
    "vec1 = sp.Matrix([1, 1, 0])\n",
    "vec2 = sp.Matrix([0, -1, 1])\n",
    "vec3 = sp.Matrix([1, 1, 1])\n",
    "\n",
    "vec1, vec2, vec3"
   ]
  },
  {
   "cell_type": "code",
   "execution_count": 30,
   "id": "1174dc90",
   "metadata": {},
   "outputs": [
    {
     "name": "stdout",
     "output_type": "stream",
     "text": [
      "vec1 ・ vec2 = -1\n",
      "vec1 ・ vec3 = 2\n"
     ]
    }
   ],
   "source": [
    "# 内積の結果から、定義したベクトルは直交化していない\n",
    "print(f\"vec1 ・ vec2 = {vec1.dot(vec2)}\")\n",
    "print(f\"vec1 ・ vec3 = {vec1.dot(vec3)}\")"
   ]
  },
  {
   "cell_type": "code",
   "execution_count": 31,
   "id": "046dbf81",
   "metadata": {},
   "outputs": [
    {
     "data": {
      "text/latex": [
       "$\\displaystyle \\left( \\left[\\begin{matrix}1\\\\1\\\\0\\end{matrix}\\right], \\  \\left[\\begin{matrix}\\frac{1}{2}\\\\- \\frac{1}{2}\\\\1\\end{matrix}\\right], \\  \\left[\\begin{matrix}- \\frac{1}{3}\\\\\\frac{1}{3}\\\\\\frac{1}{3}\\end{matrix}\\right]\\right)$"
      ],
      "text/plain": [
       "⎛⎡1⎤  ⎡1/2 ⎤  ⎡-1/3⎤⎞\n",
       "⎜⎢ ⎥  ⎢    ⎥  ⎢    ⎥⎟\n",
       "⎜⎢1⎥, ⎢-1/2⎥, ⎢1/3 ⎥⎟\n",
       "⎜⎢ ⎥  ⎢    ⎥  ⎢    ⎥⎟\n",
       "⎝⎣0⎦  ⎣ 1  ⎦  ⎣1/3 ⎦⎠"
      ]
     },
     "execution_count": 31,
     "metadata": {},
     "output_type": "execute_result"
    }
   ],
   "source": [
    "vec_list = [vec1, vec2, vec3]\n",
    "out1, out2, out3 = sp.GramSchmidt(vec_list)\n",
    "out1, out2, out3"
   ]
  },
  {
   "cell_type": "code",
   "execution_count": 32,
   "id": "e9ef1deb",
   "metadata": {},
   "outputs": [
    {
     "name": "stdout",
     "output_type": "stream",
     "text": [
      "out1 ・ out2 = 0\n",
      "out1 ・ out3 = 0\n"
     ]
    }
   ],
   "source": [
    "# 内積の結果から、互いに直交しているのがわかる\n",
    "print(f\"out1 ・ out2 = {out1.dot(out2)}\")\n",
    "print(f\"out1 ・ out3 = {out1.dot(out3)}\")"
   ]
  },
  {
   "cell_type": "code",
   "execution_count": 33,
   "id": "e4fa7d04",
   "metadata": {},
   "outputs": [
    {
     "data": {
      "text/latex": [
       "$\\displaystyle \\left[ \\left[\\begin{matrix}1\\\\1\\\\0\\end{matrix}\\right], \\  \\left[\\begin{matrix}\\frac{1}{2}\\\\- \\frac{1}{2}\\\\1\\end{matrix}\\right], \\  \\left[\\begin{matrix}- \\frac{1}{3}\\\\\\frac{1}{3}\\\\\\frac{1}{3}\\end{matrix}\\right]\\right]$"
      ],
      "text/plain": [
       "⎡⎡1⎤  ⎡1/2 ⎤  ⎡-1/3⎤⎤\n",
       "⎢⎢ ⎥  ⎢    ⎥  ⎢    ⎥⎥\n",
       "⎢⎢1⎥, ⎢-1/2⎥, ⎢1/3 ⎥⎥\n",
       "⎢⎢ ⎥  ⎢    ⎥  ⎢    ⎥⎥\n",
       "⎣⎣0⎦  ⎣ 1  ⎦  ⎣1/3 ⎦⎦"
      ]
     },
     "execution_count": 33,
     "metadata": {},
     "output_type": "execute_result"
    }
   ],
   "source": [
    "sp.Matrix.orthogonalize(*vec_list)"
   ]
  },
  {
   "cell_type": "markdown",
   "id": "dfa16b9c",
   "metadata": {},
   "source": [
    "### ベクトルの外積・直積\n",
    "\n",
    "- 外積は、`vec1.corss(vec2)` で計算できる。\n",
    "- 直積は、`sympy.physics.quantum.TensorProduct(vec1, vec.T)` で計算できる。\n",
    "\n",
    "#### [参考] 直積とは？\n",
    "\n",
    "$$\n",
    "\\boldsymbol{u} \\otimes \\boldsymbol{u} = \\boldsymbol{u} \\cdot \\boldsymbol{u}^{T}\n",
    "$$"
   ]
  },
  {
   "cell_type": "code",
   "execution_count": 34,
   "id": "1f6cbb33",
   "metadata": {},
   "outputs": [
    {
     "data": {
      "text/latex": [
       "$\\displaystyle \\left( \\left[\\begin{matrix}ux\\\\uy\\\\uz\\end{matrix}\\right], \\  \\left[\\begin{matrix}vx\\\\vy\\\\vz\\end{matrix}\\right]\\right)$"
      ],
      "text/plain": [
       "⎛⎡ux⎤  ⎡vx⎤⎞\n",
       "⎜⎢  ⎥  ⎢  ⎥⎟\n",
       "⎜⎢uy⎥, ⎢vy⎥⎟\n",
       "⎜⎢  ⎥  ⎢  ⎥⎟\n",
       "⎝⎣uz⎦  ⎣vz⎦⎠"
      ]
     },
     "execution_count": 34,
     "metadata": {},
     "output_type": "execute_result"
    }
   ],
   "source": [
    "ux, uy, uz = sp.symbols('ux uy uz')\n",
    "vx, vy, vz = sp.symbols('vx vy vz')\n",
    "\n",
    "u = sp.Matrix([ux, uy, uz])\n",
    "v = sp.Matrix([vx, vy, vz])\n",
    "\n",
    "u, v"
   ]
  },
  {
   "cell_type": "code",
   "execution_count": 35,
   "id": "1a147ed8",
   "metadata": {},
   "outputs": [
    {
     "data": {
      "image/png": "[encoded data removed]",
      "text/latex": [
       "$\\displaystyle ux vx + uy vy + uz vz$"
      ],
      "text/plain": [
       "ux⋅vx + uy⋅vy + uz⋅vz"
      ]
     },
     "execution_count": 35,
     "metadata": {},
     "output_type": "execute_result"
    }
   ],
   "source": [
    "# これは内積\n",
    "u.dot(v)"
   ]
  },
  {
   "cell_type": "code",
   "execution_count": 36,
   "id": "8ac1168f",
   "metadata": {},
   "outputs": [
    {
     "data": {
      "text/latex": [
       "$\\displaystyle \\left[\\begin{matrix}uy vz - uz vy\\\\- ux vz + uz vx\\\\ux vy - uy vx\\end{matrix}\\right]$"
      ],
      "text/plain": [
       "⎡uy⋅vz - uz⋅vy ⎤\n",
       "⎢              ⎥\n",
       "⎢-ux⋅vz + uz⋅vx⎥\n",
       "⎢              ⎥\n",
       "⎣ux⋅vy - uy⋅vx ⎦"
      ]
     },
     "execution_count": 36,
     "metadata": {},
     "output_type": "execute_result"
    }
   ],
   "source": [
    "# 外積の計算\n",
    "u.cross(v)"
   ]
  },
  {
   "cell_type": "code",
   "execution_count": 37,
   "id": "3e05f754",
   "metadata": {},
   "outputs": [
    {
     "data": {
      "text/latex": [
       "$\\displaystyle \\left[\\begin{matrix}ux^{2} & ux uy & ux uz\\\\ux uy & uy^{2} & uy uz\\\\ux uz & uy uz & uz^{2}\\end{matrix}\\right]$"
      ],
      "text/plain": [
       "⎡   2               ⎤\n",
       "⎢ ux    ux⋅uy  ux⋅uz⎥\n",
       "⎢                   ⎥\n",
       "⎢          2        ⎥\n",
       "⎢ux⋅uy   uy    uy⋅uz⎥\n",
       "⎢                   ⎥\n",
       "⎢                 2 ⎥\n",
       "⎣ux⋅uz  uy⋅uz   uz  ⎦"
      ]
     },
     "execution_count": 37,
     "metadata": {},
     "output_type": "execute_result"
    }
   ],
   "source": [
    "# 直積の計算\n",
    "TensorProduct(u, u.T)"
   ]
  },
  {
   "cell_type": "markdown",
   "id": "570169f5",
   "metadata": {},
   "source": [
    "### 行列の固有値と固有ベクトル\n",
    "\n",
    "- 行列の固有値は、`行列.eigenvals()`で計算できる。\n",
    "- また、固有ベクトルは、`行列.eigenvects()`で計算できる。"
   ]
  },
  {
   "cell_type": "code",
   "execution_count": 38,
   "id": "5561d4ff",
   "metadata": {},
   "outputs": [
    {
     "data": {
      "text/latex": [
       "$\\displaystyle \\left[\\begin{matrix}5 & 3\\\\4 & 9\\end{matrix}\\right]$"
      ],
      "text/plain": [
       "⎡5  3⎤\n",
       "⎢    ⎥\n",
       "⎣4  9⎦"
      ]
     },
     "execution_count": 38,
     "metadata": {},
     "output_type": "execute_result"
    }
   ],
   "source": [
    "A = sp.Matrix([[5, 3], [4, 9]])\n",
    "A"
   ]
  },
  {
   "cell_type": "code",
   "execution_count": 39,
   "id": "4c010358",
   "metadata": {},
   "outputs": [
    {
     "data": {
      "image/png": "[encoded data removed]",
      "text/latex": [
       "$\\displaystyle \\left\\{ 3 : 1, \\  11 : 1\\right\\}$"
      ],
      "text/plain": [
       "{3: 1, 11: 1}"
      ]
     },
     "execution_count": 39,
     "metadata": {},
     "output_type": "execute_result"
    }
   ],
   "source": [
    "A.eigenvals()"
   ]
  },
  {
   "cell_type": "code",
   "execution_count": 40,
   "id": "0ab45ef3",
   "metadata": {},
   "outputs": [
    {
     "data": {
      "text/latex": [
       "$\\displaystyle \\left[ \\left( 3, \\  1, \\  \\left[ \\left[\\begin{matrix}- \\frac{3}{2}\\\\1\\end{matrix}\\right]\\right]\\right), \\  \\left( 11, \\  1, \\  \\left[ \\left[\\begin{matrix}\\frac{1}{2}\\\\1\\end{matrix}\\right]\\right]\\right)\\right]$"
      ],
      "text/plain": [
       "⎡⎛      ⎡⎡-3/2⎤⎤⎞  ⎛       ⎡⎡1/2⎤⎤⎞⎤\n",
       "⎢⎜3, 1, ⎢⎢    ⎥⎥⎟, ⎜11, 1, ⎢⎢   ⎥⎥⎟⎥\n",
       "⎣⎝      ⎣⎣ 1  ⎦⎦⎠  ⎝       ⎣⎣ 1 ⎦⎦⎠⎦"
      ]
     },
     "execution_count": 40,
     "metadata": {},
     "output_type": "execute_result"
    }
   ],
   "source": [
    "A.eigenvects()"
   ]
  },
  {
   "cell_type": "code",
   "execution_count": null,
   "id": "a28f6ea4",
   "metadata": {},
   "outputs": [],
   "source": []
  }
 ],
 "metadata": {
  "kernelspec": {
   "display_name": "Python 3",
   "language": "python",
   "name": "python3"
  },
  "language_info": {
   "codemirror_mode": {
    "name": "ipython",
    "version": 3
   },
   "file_extension": ".py",
   "mimetype": "text/x-python",
   "name": "python",
   "nbconvert_exporter": "python",
   "pygments_lexer": "ipython3",
   "version": "3.8.8"
  }
 },
 "nbformat": 4,
 "nbformat_minor": 5
}
