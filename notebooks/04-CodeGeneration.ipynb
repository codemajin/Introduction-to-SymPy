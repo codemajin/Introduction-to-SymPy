{
 "cells": [
  {
   "cell_type": "code",
   "execution_count": 1,
   "id": "4518c4e0",
   "metadata": {},
   "outputs": [
    {
     "name": "stdout",
     "output_type": "stream",
     "text": [
      "SymPy Version: 1.8\n"
     ]
    }
   ],
   "source": [
    "import sympy as sp\n",
    "import numpy as np\n",
    "\n",
    "print(f\"SymPy Version: {sp.__version__}\")\n",
    "\n",
    "# 数式をキレイに表示する\n",
    "sp.init_printing()\n",
    "\n",
    "# 乱数の種の固定しておく\n",
    "np.random.seed(123)"
   ]
  },
  {
   "cell_type": "markdown",
   "id": "ab527167",
   "metadata": {},
   "source": [
    "### C言語のコードを生成する。\n",
    "\n",
    "- C言語のコードは、`sympy.ccode()`で出力することができる。"
   ]
  },
  {
   "cell_type": "code",
   "execution_count": 2,
   "id": "4d91836d",
   "metadata": {},
   "outputs": [],
   "source": [
    "x, y, z = sp.symbols('x y z')"
   ]
  },
  {
   "cell_type": "code",
   "execution_count": 3,
   "id": "ae440974",
   "metadata": {},
   "outputs": [
    {
     "data": {
      "text/plain": [
       "'exp(-x)'"
      ]
     },
     "execution_count": 3,
     "metadata": {},
     "output_type": "execute_result"
    }
   ],
   "source": [
    "sp.ccode(sp.exp(-x))"
   ]
  },
  {
   "cell_type": "code",
   "execution_count": 4,
   "id": "eeba8ad1",
   "metadata": {},
   "outputs": [
    {
     "data": {
      "image/png": "[encoded data removed]",
      "text/latex": [
       "$\\displaystyle \\left(x^{2} + y^{2} + z^{2}\\right)^{0.5}$"
      ],
      "text/plain": [
       "              0.5\n",
       "⎛ 2    2    2⎞   \n",
       "⎝x  + y  + z ⎠   "
      ]
     },
     "execution_count": 4,
     "metadata": {},
     "output_type": "execute_result"
    }
   ],
   "source": [
    "distance = (x ** 2 + y ** 2 + z ** 2) ** 0.5\n",
    "distance"
   ]
  },
  {
   "cell_type": "code",
   "execution_count": 5,
   "id": "8198d2f2",
   "metadata": {},
   "outputs": [
    {
     "data": {
      "text/plain": [
       "'sqrt(pow(x, 2) + pow(y, 2) + pow(z, 2))'"
      ]
     },
     "execution_count": 5,
     "metadata": {},
     "output_type": "execute_result"
    }
   ],
   "source": [
    "sp.ccode(distance)"
   ]
  },
  {
   "cell_type": "code",
   "execution_count": 6,
   "id": "3d95c7ca",
   "metadata": {},
   "outputs": [
    {
     "data": {
      "text/latex": [
       "$\\displaystyle \\left[\\begin{matrix}14 & 13 & 14\\\\2 & 12 & 2\\\\6 & 1 & 3\\end{matrix}\\right]$"
      ],
      "text/plain": [
       "⎡14  13  14⎤\n",
       "⎢          ⎥\n",
       "⎢2   12  2 ⎥\n",
       "⎢          ⎥\n",
       "⎣6   1   3 ⎦"
      ]
     },
     "execution_count": 6,
     "metadata": {},
     "output_type": "execute_result"
    }
   ],
   "source": [
    "x = sp.MatrixSymbol('x', 3, 1)\n",
    "\n",
    "A = sp.Matrix(np.random.randint(15, size=(3, 3)))\n",
    "A"
   ]
  },
  {
   "cell_type": "code",
   "execution_count": 7,
   "id": "976b64f0",
   "metadata": {},
   "outputs": [
    {
     "data": {
      "text/latex": [
       "$\\displaystyle \\left[\\begin{array}{c}14 x_{0, 0} + 13 x_{1, 0} + 14 x_{2, 0}\\\\2 x_{0, 0} + 12 x_{1, 0} + 2 x_{2, 0}\\\\6 x_{0, 0} + x_{1, 0} + 3 x_{2, 0}\\end{array}\\right]$"
      ],
      "text/plain": [
       "⎡14⋅x₀₀ + 13⋅x₁₀ + 14⋅x₂₀⎤\n",
       "⎢                        ⎥\n",
       "⎢ 2⋅x₀₀ + 12⋅x₁₀ + 2⋅x₂₀ ⎥\n",
       "⎢                        ⎥\n",
       "⎣  6⋅x₀₀ + x₁₀ + 3⋅x₂₀   ⎦"
      ]
     },
     "execution_count": 7,
     "metadata": {},
     "output_type": "execute_result"
    }
   ],
   "source": [
    "Ax = A * sp.Matrix(x)\n",
    "Ax"
   ]
  },
  {
   "cell_type": "code",
   "execution_count": 8,
   "id": "c6852168",
   "metadata": {},
   "outputs": [
    {
     "name": "stdout",
     "output_type": "stream",
     "text": [
      "y[0] = 14*x[0] + 13*x[1] + 14*x[2];\n",
      "y[1] = 2*x[0] + 12*x[1] + 2*x[2];\n",
      "y[2] = 6*x[0] + x[1] + 3*x[2];\n"
     ]
    }
   ],
   "source": [
    "n_rows = 3\n",
    "for i in range(n_rows):\n",
    "    code = sp.ccode(Ax[i], assign_to=f\"y[{i}]\")\n",
    "    print(code)"
   ]
  },
  {
   "cell_type": "code",
   "execution_count": null,
   "id": "857f3d9c",
   "metadata": {},
   "outputs": [],
   "source": []
  }
 ],
 "metadata": {
  "kernelspec": {
   "display_name": "Python 3",
   "language": "python",
   "name": "python3"
  },
  "language_info": {
   "codemirror_mode": {
    "name": "ipython",
    "version": 3
   },
   "file_extension": ".py",
   "mimetype": "text/x-python",
   "name": "python",
   "nbconvert_exporter": "python",
   "pygments_lexer": "ipython3",
   "version": "3.8.8"
  }
 },
 "nbformat": 4,
 "nbformat_minor": 5
}
